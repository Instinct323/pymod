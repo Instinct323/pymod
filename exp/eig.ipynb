{
 "cells": [
  {
   "cell_type": "code",
   "execution_count": 1,
   "id": "13e67da6",
   "metadata": {},
   "outputs": [],
   "source": [
    "import numpy as np\n",
    "import pandas as pd"
   ]
  },
  {
   "cell_type": "markdown",
   "id": "ccb497a9",
   "metadata": {},
   "source": [
    "# 特征值分解\n",
    "- $Ax = x \\lambda$\n",
    "- $A = x \\lambda x^{-1}$"
   ]
  },
  {
   "cell_type": "code",
   "execution_count": 2,
   "id": "0ad547fa",
   "metadata": {},
   "outputs": [
    {
     "data": {
      "text/plain": [
       "array([9.88575541e-16, 2.15799600e-15])"
      ]
     },
     "execution_count": 2,
     "metadata": {},
     "output_type": "execute_result"
    }
   ],
   "source": [
    "n = 3\n",
    "\n",
    "A = np.random.random([n, n])\n",
    "lam, x = np.linalg.eig(A)\n",
    "\n",
    "\n",
    "def check(A, lam, x):\n",
    "    # 检查 A, λ, x 是否满足两个等式\n",
    "    diff = np.array([A @ x - lam * x, \n",
    "                    x * lam @ np.linalg.inv(x) - A])\n",
    "    return np.abs(diff).sum(axis=(-1, -2))\n",
    "    \n",
    "\n",
    "check(A, lam, x)"
   ]
  }
 ],
 "metadata": {
  "kernelspec": {
   "display_name": "Python 3 (ipykernel)",
   "language": "python",
   "name": "python3"
  },
  "language_info": {
   "codemirror_mode": {
    "name": "ipython",
    "version": 3
   },
   "file_extension": ".py",
   "mimetype": "text/x-python",
   "name": "python",
   "nbconvert_exporter": "python",
   "pygments_lexer": "ipython3",
   "version": "3.8.0"
  }
 },
 "nbformat": 4,
 "nbformat_minor": 5
}
